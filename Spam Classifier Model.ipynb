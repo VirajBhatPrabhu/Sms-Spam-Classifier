{
 "cells": [
  {
   "cell_type": "markdown",
   "id": "cf5e27d2",
   "metadata": {},
   "source": [
    "# Model Building"
   ]
  },
  {
   "cell_type": "markdown",
   "id": "f09c00df",
   "metadata": {},
   "source": [
    "## Import Libraries "
   ]
  },
  {
   "cell_type": "code",
   "execution_count": 1,
   "id": "3f562e7a",
   "metadata": {},
   "outputs": [],
   "source": [
    "import pandas as pd\n",
    "import numpy as np"
   ]
  },
  {
   "cell_type": "code",
   "execution_count": 2,
   "id": "9ec35f3b",
   "metadata": {
    "scrolled": false
   },
   "outputs": [
    {
     "data": {
      "text/html": [
       "<div>\n",
       "<style scoped>\n",
       "    .dataframe tbody tr th:only-of-type {\n",
       "        vertical-align: middle;\n",
       "    }\n",
       "\n",
       "    .dataframe tbody tr th {\n",
       "        vertical-align: top;\n",
       "    }\n",
       "\n",
       "    .dataframe thead th {\n",
       "        text-align: right;\n",
       "    }\n",
       "</style>\n",
       "<table border=\"1\" class=\"dataframe\">\n",
       "  <thead>\n",
       "    <tr style=\"text-align: right;\">\n",
       "      <th></th>\n",
       "      <th>v1</th>\n",
       "      <th>v2</th>\n",
       "      <th>Unnamed: 2</th>\n",
       "      <th>Unnamed: 3</th>\n",
       "      <th>Unnamed: 4</th>\n",
       "    </tr>\n",
       "  </thead>\n",
       "  <tbody>\n",
       "    <tr>\n",
       "      <th>0</th>\n",
       "      <td>ham</td>\n",
       "      <td>Go until jurong point, crazy.. Available only ...</td>\n",
       "      <td>NaN</td>\n",
       "      <td>NaN</td>\n",
       "      <td>NaN</td>\n",
       "    </tr>\n",
       "    <tr>\n",
       "      <th>1</th>\n",
       "      <td>ham</td>\n",
       "      <td>Ok lar... Joking wif u oni...</td>\n",
       "      <td>NaN</td>\n",
       "      <td>NaN</td>\n",
       "      <td>NaN</td>\n",
       "    </tr>\n",
       "    <tr>\n",
       "      <th>2</th>\n",
       "      <td>spam</td>\n",
       "      <td>Free entry in 2 a wkly comp to win FA Cup fina...</td>\n",
       "      <td>NaN</td>\n",
       "      <td>NaN</td>\n",
       "      <td>NaN</td>\n",
       "    </tr>\n",
       "    <tr>\n",
       "      <th>3</th>\n",
       "      <td>ham</td>\n",
       "      <td>U dun say so early hor... U c already then say...</td>\n",
       "      <td>NaN</td>\n",
       "      <td>NaN</td>\n",
       "      <td>NaN</td>\n",
       "    </tr>\n",
       "    <tr>\n",
       "      <th>4</th>\n",
       "      <td>ham</td>\n",
       "      <td>Nah I don't think he goes to usf, he lives aro...</td>\n",
       "      <td>NaN</td>\n",
       "      <td>NaN</td>\n",
       "      <td>NaN</td>\n",
       "    </tr>\n",
       "  </tbody>\n",
       "</table>\n",
       "</div>"
      ],
      "text/plain": [
       "     v1                                                 v2 Unnamed: 2  \\\n",
       "0   ham  Go until jurong point, crazy.. Available only ...        NaN   \n",
       "1   ham                      Ok lar... Joking wif u oni...        NaN   \n",
       "2  spam  Free entry in 2 a wkly comp to win FA Cup fina...        NaN   \n",
       "3   ham  U dun say so early hor... U c already then say...        NaN   \n",
       "4   ham  Nah I don't think he goes to usf, he lives aro...        NaN   \n",
       "\n",
       "  Unnamed: 3 Unnamed: 4  \n",
       "0        NaN        NaN  \n",
       "1        NaN        NaN  \n",
       "2        NaN        NaN  \n",
       "3        NaN        NaN  \n",
       "4        NaN        NaN  "
      ]
     },
     "execution_count": 2,
     "metadata": {},
     "output_type": "execute_result"
    }
   ],
   "source": [
    "df = pd.read_csv('Data/spam.csv',encoding = \"ISO-8859-1\")\n",
    "df.head()"
   ]
  },
  {
   "cell_type": "code",
   "execution_count": 3,
   "id": "dfac4eab",
   "metadata": {},
   "outputs": [
    {
     "name": "stderr",
     "output_type": "stream",
     "text": [
      "F:\\Conda\\lib\\site-packages\\scipy\\__init__.py:146: UserWarning: A NumPy version >=1.16.5 and <1.23.0 is required for this version of SciPy (detected version 1.23.4\n",
      "  warnings.warn(f\"A NumPy version >={np_minversion} and <{np_maxversion}\"\n"
     ]
    }
   ],
   "source": [
    "import nltk\n",
    "df.drop(['Unnamed: 2','Unnamed: 3','Unnamed: 4'],axis=1,inplace=True)\n",
    "df.rename(columns={'v1':'Target','v2':'Text'},inplace=True)\n",
    "df.drop_duplicates(keep='first',inplace=True)\n",
    "from sklearn.preprocessing import LabelEncoder\n",
    "enc = LabelEncoder()\n",
    "df['Target'] = enc.fit_transform(df['Target'])\n",
    "df['Charachters'] = df['Text'].apply(len)\n",
    "df['Words'] = df['Text'].apply(lambda x:len(nltk.word_tokenize(x)))\n",
    "df['Sentences'] = df['Text'].apply(lambda x:len(nltk.sent_tokenize(x)))\n",
    "from nltk.corpus import stopwords\n",
    "import string\n",
    "from nltk.stem.porter import PorterStemmer\n",
    "ps = PorterStemmer()\n",
    "def preprocess(text):\n",
    "    text = text.lower()\n",
    "    text = nltk.word_tokenize(text)\n",
    "    y = []\n",
    "    \n",
    "    for i in text:\n",
    "        if i.isalnum():\n",
    "            y.append(i)\n",
    "            \n",
    "    text = y[:]\n",
    "    y.clear()\n",
    "    for i in text:\n",
    "        if i not in stopwords.words('english') and i not in string.punctuation:\n",
    "            y.append(i)\n",
    "            \n",
    "    text = y[:]\n",
    "    y.clear()\n",
    "    for i in text:\n",
    "        y.append(ps.stem(i))\n",
    "        \n",
    "    return \" \".join(y)\n",
    "\n",
    "\n",
    "\n",
    "df['Processed'] = df['Text'].apply(preprocess)"
   ]
  },
  {
   "cell_type": "markdown",
   "id": "d6bc8546",
   "metadata": {},
   "source": [
    "## Convert text in Processed column into vectors"
   ]
  },
  {
   "cell_type": "markdown",
   "id": "3bc1577c",
   "metadata": {},
   "source": [
    "## Finding out whether TFIDF or Bag of words is better"
   ]
  },
  {
   "cell_type": "markdown",
   "id": "cd6ed497",
   "metadata": {},
   "source": [
    "#### As we know Naive Bayes gives best results or lets say its preffered in case of textual data"
   ]
  },
  {
   "cell_type": "code",
   "execution_count": 4,
   "id": "6d26da28",
   "metadata": {},
   "outputs": [],
   "source": [
    "from sklearn.feature_extraction.text import TfidfVectorizer,CountVectorizer\n",
    "tf = TfidfVectorizer(max_features=3000)\n",
    "cv = CountVectorizer()"
   ]
  },
  {
   "cell_type": "code",
   "execution_count": 5,
   "id": "163354ca",
   "metadata": {},
   "outputs": [],
   "source": [
    "X1 = tf.fit_transform(df['Processed']).toarray()\n",
    "X2 = cv.fit_transform(df['Processed']).toarray()"
   ]
  },
  {
   "cell_type": "code",
   "execution_count": 6,
   "id": "cf472753",
   "metadata": {},
   "outputs": [],
   "source": [
    "y = df['Target']"
   ]
  },
  {
   "cell_type": "code",
   "execution_count": 7,
   "id": "9b3e493d",
   "metadata": {},
   "outputs": [],
   "source": [
    "from sklearn.model_selection import train_test_split\n",
    "X1_train, X1_test, y_train, y_test = train_test_split(X1,y,test_size=0.2,random_state=42)\n",
    "X2_train, X2_test, y_train, y_test = train_test_split(X2,y,test_size=0.2,random_state=42)"
   ]
  },
  {
   "cell_type": "markdown",
   "id": "73c472b1",
   "metadata": {},
   "source": [
    "## Check which algorithms perform the best"
   ]
  },
  {
   "cell_type": "code",
   "execution_count": 10,
   "id": "6fd93b1f",
   "metadata": {},
   "outputs": [],
   "source": [
    "from sklearn.tree import DecisionTreeClassifier\n",
    "from sklearn.ensemble import RandomForestClassifier,ExtraTreesClassifier,AdaBoostClassifier,BaggingClassifier,GradientBoostingClassifier\n",
    "from sklearn.svm import SVC\n",
    "from xgboost import XGBClassifier\n",
    "from sklearn.linear_model import LogisticRegression\n",
    "from sklearn.neighbors import KNeighborsClassifier\n",
    "from sklearn.naive_bayes import GaussianNB,MultinomialNB,BernoulliNB\n",
    "from sklearn.metrics import accuracy_score,precision_score\n",
    "\n",
    "random_state = 42\n",
    "\n",
    "model1 = DecisionTreeClassifier(random_state=random_state,max_depth=5)\n",
    "model2 = AdaBoostClassifier(DecisionTreeClassifier(criterion=\"entropy\",max_depth=5,random_state=random_state))\n",
    "model3 = RandomForestClassifier(n_estimators=50,random_state=random_state)\n",
    "model4 = GradientBoostingClassifier(random_state=random_state)\n",
    "model5 = LogisticRegression(random_state=random_state, solver='lbfgs', max_iter=10000)\n",
    "model6 = XGBClassifier(random_state = random_state)\n",
    "model7 = SVC(random_state=random_state)\n",
    "model8 = BaggingClassifier(n_estimators=50,random_state=random_state)\n",
    "model9 = GaussianNB()\n",
    "model10 = BernoulliNB()\n",
    "model11 = MultinomialNB()\n",
    "model12 = ExtraTreesClassifier(n_estimators=50,random_state=random_state)\n",
    "\n",
    "def make_classification(X_train,X_test,y_train,y_test):\n",
    "    \n",
    "    accuracy, precision = [],[]\n",
    "    \n",
    "    classifiers = []\n",
    "    classifiers.append(model1)\n",
    "    classifiers.append(model2)    \n",
    "    classifiers.append(model3)    \n",
    "    classifiers.append(model4)    \n",
    "    classifiers.append(model5)    \n",
    "    classifiers.append(model6)    \n",
    "    classifiers.append(model7)    \n",
    "    classifiers.append(model8)    \n",
    "    classifiers.append(model9)    \n",
    "    classifiers.append(model10)    \n",
    "    classifiers.append(model11)    \n",
    "    classifiers.append(model12)\n",
    "    \n",
    "    for classifier in classifiers:\n",
    "        clf = classifier\n",
    "        clf.fit(X_train,y_train)\n",
    "        y_preds = clf.predict(X_test)\n",
    "        \n",
    "        accuracy.append(((accuracy_score(y_test, y_preds))) * 100)\n",
    "        precision.append(((precision_score(y_test, y_preds))) * 100)\n",
    "        \n",
    "    results_df = pd.DataFrame({'Accuracy Score':accuracy,\n",
    "                               'Precision Score':precision,\n",
    "                               'Models': ['DT','ADB','RF','GBC','LR','XGB','SVC','Bagging','GNB','BNB','MNB','ETC']})\n",
    "        \n",
    "    results = (results_df.sort_values(by=['Precision Score','Accuracy Score'], ascending=False)\n",
    "               .reset_index(drop=True))\n",
    "        \n",
    "    return classifiers,results"
   ]
  },
  {
   "cell_type": "code",
   "execution_count": 11,
   "id": "8905a83d",
   "metadata": {},
   "outputs": [
    {
     "data": {
      "text/html": [
       "<div>\n",
       "<style scoped>\n",
       "    .dataframe tbody tr th:only-of-type {\n",
       "        vertical-align: middle;\n",
       "    }\n",
       "\n",
       "    .dataframe tbody tr th {\n",
       "        vertical-align: top;\n",
       "    }\n",
       "\n",
       "    .dataframe thead th {\n",
       "        text-align: right;\n",
       "    }\n",
       "</style>\n",
       "<table border=\"1\" class=\"dataframe\">\n",
       "  <thead>\n",
       "    <tr style=\"text-align: right;\">\n",
       "      <th></th>\n",
       "      <th>Accuracy Score</th>\n",
       "      <th>Precision Score</th>\n",
       "      <th>Models</th>\n",
       "    </tr>\n",
       "  </thead>\n",
       "  <tbody>\n",
       "    <tr>\n",
       "      <th>0</th>\n",
       "      <td>97.485493</td>\n",
       "      <td>99.173554</td>\n",
       "      <td>SVC</td>\n",
       "    </tr>\n",
       "    <tr>\n",
       "      <th>1</th>\n",
       "      <td>97.292070</td>\n",
       "      <td>99.159664</td>\n",
       "      <td>MNB</td>\n",
       "    </tr>\n",
       "    <tr>\n",
       "      <th>2</th>\n",
       "      <td>97.678917</td>\n",
       "      <td>97.637795</td>\n",
       "      <td>ETC</td>\n",
       "    </tr>\n",
       "    <tr>\n",
       "      <th>3</th>\n",
       "      <td>97.195358</td>\n",
       "      <td>97.540984</td>\n",
       "      <td>RF</td>\n",
       "    </tr>\n",
       "    <tr>\n",
       "      <th>4</th>\n",
       "      <td>96.228240</td>\n",
       "      <td>96.491228</td>\n",
       "      <td>GBC</td>\n",
       "    </tr>\n",
       "    <tr>\n",
       "      <th>5</th>\n",
       "      <td>97.292070</td>\n",
       "      <td>96.062992</td>\n",
       "      <td>BNB</td>\n",
       "    </tr>\n",
       "    <tr>\n",
       "      <th>6</th>\n",
       "      <td>95.841393</td>\n",
       "      <td>94.736842</td>\n",
       "      <td>LR</td>\n",
       "    </tr>\n",
       "    <tr>\n",
       "      <th>7</th>\n",
       "      <td>96.615087</td>\n",
       "      <td>94.354839</td>\n",
       "      <td>ADB</td>\n",
       "    </tr>\n",
       "    <tr>\n",
       "      <th>8</th>\n",
       "      <td>96.905222</td>\n",
       "      <td>92.481203</td>\n",
       "      <td>XGB</td>\n",
       "    </tr>\n",
       "    <tr>\n",
       "      <th>9</th>\n",
       "      <td>96.228240</td>\n",
       "      <td>88.405797</td>\n",
       "      <td>Bagging</td>\n",
       "    </tr>\n",
       "    <tr>\n",
       "      <th>10</th>\n",
       "      <td>93.423598</td>\n",
       "      <td>84.070796</td>\n",
       "      <td>DT</td>\n",
       "    </tr>\n",
       "    <tr>\n",
       "      <th>11</th>\n",
       "      <td>86.073501</td>\n",
       "      <td>50.207469</td>\n",
       "      <td>GNB</td>\n",
       "    </tr>\n",
       "  </tbody>\n",
       "</table>\n",
       "</div>"
      ],
      "text/plain": [
       "    Accuracy Score  Precision Score   Models\n",
       "0        97.485493        99.173554      SVC\n",
       "1        97.292070        99.159664      MNB\n",
       "2        97.678917        97.637795      ETC\n",
       "3        97.195358        97.540984       RF\n",
       "4        96.228240        96.491228      GBC\n",
       "5        97.292070        96.062992      BNB\n",
       "6        95.841393        94.736842       LR\n",
       "7        96.615087        94.354839      ADB\n",
       "8        96.905222        92.481203      XGB\n",
       "9        96.228240        88.405797  Bagging\n",
       "10       93.423598        84.070796       DT\n",
       "11       86.073501        50.207469      GNB"
      ]
     },
     "execution_count": 11,
     "metadata": {},
     "output_type": "execute_result"
    }
   ],
   "source": [
    "classifiers, results = make_classification(X1_train, X1_test, y_train, y_test)\n",
    "results "
   ]
  },
  {
   "cell_type": "code",
   "execution_count": 12,
   "id": "16fc805f",
   "metadata": {},
   "outputs": [
    {
     "data": {
      "text/html": [
       "<div>\n",
       "<style scoped>\n",
       "    .dataframe tbody tr th:only-of-type {\n",
       "        vertical-align: middle;\n",
       "    }\n",
       "\n",
       "    .dataframe tbody tr th {\n",
       "        vertical-align: top;\n",
       "    }\n",
       "\n",
       "    .dataframe thead th {\n",
       "        text-align: right;\n",
       "    }\n",
       "</style>\n",
       "<table border=\"1\" class=\"dataframe\">\n",
       "  <thead>\n",
       "    <tr style=\"text-align: right;\">\n",
       "      <th></th>\n",
       "      <th>Accuracy Score</th>\n",
       "      <th>Precision Score</th>\n",
       "      <th>Models</th>\n",
       "    </tr>\n",
       "  </thead>\n",
       "  <tbody>\n",
       "    <tr>\n",
       "      <th>0</th>\n",
       "      <td>96.711799</td>\n",
       "      <td>100.000000</td>\n",
       "      <td>RF</td>\n",
       "    </tr>\n",
       "    <tr>\n",
       "      <th>1</th>\n",
       "      <td>97.485493</td>\n",
       "      <td>99.173554</td>\n",
       "      <td>ETC</td>\n",
       "    </tr>\n",
       "    <tr>\n",
       "      <th>2</th>\n",
       "      <td>97.098646</td>\n",
       "      <td>98.319328</td>\n",
       "      <td>SVC</td>\n",
       "    </tr>\n",
       "    <tr>\n",
       "      <th>3</th>\n",
       "      <td>97.775629</td>\n",
       "      <td>97.656250</td>\n",
       "      <td>LR</td>\n",
       "    </tr>\n",
       "    <tr>\n",
       "      <th>4</th>\n",
       "      <td>96.615087</td>\n",
       "      <td>96.610169</td>\n",
       "      <td>BNB</td>\n",
       "    </tr>\n",
       "    <tr>\n",
       "      <th>5</th>\n",
       "      <td>92.456480</td>\n",
       "      <td>93.506494</td>\n",
       "      <td>DT</td>\n",
       "    </tr>\n",
       "    <tr>\n",
       "      <th>6</th>\n",
       "      <td>96.905222</td>\n",
       "      <td>92.481203</td>\n",
       "      <td>XGB</td>\n",
       "    </tr>\n",
       "    <tr>\n",
       "      <th>7</th>\n",
       "      <td>95.164410</td>\n",
       "      <td>89.915966</td>\n",
       "      <td>GBC</td>\n",
       "    </tr>\n",
       "    <tr>\n",
       "      <th>8</th>\n",
       "      <td>95.647969</td>\n",
       "      <td>89.062500</td>\n",
       "      <td>Bagging</td>\n",
       "    </tr>\n",
       "    <tr>\n",
       "      <th>9</th>\n",
       "      <td>97.388781</td>\n",
       "      <td>88.815789</td>\n",
       "      <td>MNB</td>\n",
       "    </tr>\n",
       "    <tr>\n",
       "      <th>10</th>\n",
       "      <td>96.131528</td>\n",
       "      <td>87.234043</td>\n",
       "      <td>ADB</td>\n",
       "    </tr>\n",
       "    <tr>\n",
       "      <th>11</th>\n",
       "      <td>86.847195</td>\n",
       "      <td>51.851852</td>\n",
       "      <td>GNB</td>\n",
       "    </tr>\n",
       "  </tbody>\n",
       "</table>\n",
       "</div>"
      ],
      "text/plain": [
       "    Accuracy Score  Precision Score   Models\n",
       "0        96.711799       100.000000       RF\n",
       "1        97.485493        99.173554      ETC\n",
       "2        97.098646        98.319328      SVC\n",
       "3        97.775629        97.656250       LR\n",
       "4        96.615087        96.610169      BNB\n",
       "5        92.456480        93.506494       DT\n",
       "6        96.905222        92.481203      XGB\n",
       "7        95.164410        89.915966      GBC\n",
       "8        95.647969        89.062500  Bagging\n",
       "9        97.388781        88.815789      MNB\n",
       "10       96.131528        87.234043      ADB\n",
       "11       86.847195        51.851852      GNB"
      ]
     },
     "execution_count": 12,
     "metadata": {},
     "output_type": "execute_result"
    }
   ],
   "source": [
    "classifiers, results = make_classification(X2_train, X2_test, y_train, y_test)\n",
    "results"
   ]
  },
  {
   "cell_type": "markdown",
   "id": "0b8161f1",
   "metadata": {},
   "source": [
    "## Lets see if voting classifier can give better combined result"
   ]
  },
  {
   "cell_type": "code",
   "execution_count": 18,
   "id": "d6532fa3",
   "metadata": {},
   "outputs": [],
   "source": [
    "svc = SVC(random_state=42,probability=True)\n",
    "RF = RandomForestClassifier(n_estimators=50, random_state=42)\n",
    "etc = ExtraTreesClassifier(n_estimators=50, random_state=42)"
   ]
  },
  {
   "cell_type": "code",
   "execution_count": 19,
   "id": "92473ed5",
   "metadata": {},
   "outputs": [
    {
     "name": "stdout",
     "output_type": "stream",
     "text": [
      "Accuracy 0.9787234042553191\n",
      "Precision 1.0\n"
     ]
    }
   ],
   "source": [
    "from sklearn.ensemble import VotingClassifier\n",
    "voting = VotingClassifier(estimators=[('svm', svc), ('RF', RF), ('et', etc)],voting='soft')\n",
    "voting.fit(X2_train,y_train)\n",
    "y_pred = voting.predict(X2_test)\n",
    "print(\"Accuracy\",accuracy_score(y_test,y_pred))\n",
    "print(\"Precision\",precision_score(y_test,y_pred))"
   ]
  },
  {
   "cell_type": "markdown",
   "id": "3ad35728",
   "metadata": {},
   "source": [
    "## Lets try Stacking "
   ]
  },
  {
   "cell_type": "code",
   "execution_count": 20,
   "id": "7407f13b",
   "metadata": {},
   "outputs": [
    {
     "name": "stdout",
     "output_type": "stream",
     "text": [
      "Accuracy 0.9825918762088974\n",
      "Precision 0.9568345323741008\n"
     ]
    }
   ],
   "source": [
    "from sklearn.ensemble import StackingClassifier\n",
    "clf = StackingClassifier(estimators=[('svm', svc), ('nb', mnb), ('et', etc)], final_estimator=RandomForestClassifier())\n",
    "\n",
    "clf.fit(X2_train,y_train)\n",
    "y_pred = clf.predict(X2_test)\n",
    "print(\"Accuracy\",accuracy_score(y_test,y_pred))\n",
    "print(\"Precision\",precision_score(y_test,y_pred))"
   ]
  },
  {
   "cell_type": "code",
   "execution_count": 21,
   "id": "b007be1d",
   "metadata": {},
   "outputs": [],
   "source": [
    "import pickle \n",
    "pickle.dump(cv,open('Countvectorizer.pkl','wb'))\n",
    "pickle.dump(voting,open('Votingmodel.pkl','wb'))\n",
    "pickle.dump(RF,open('RFmodel.pkl','wb'))"
   ]
  }
 ],
 "metadata": {
  "kernelspec": {
   "display_name": "Python 3 (ipykernel)",
   "language": "python",
   "name": "python3"
  },
  "language_info": {
   "codemirror_mode": {
    "name": "ipython",
    "version": 3
   },
   "file_extension": ".py",
   "mimetype": "text/x-python",
   "name": "python",
   "nbconvert_exporter": "python",
   "pygments_lexer": "ipython3",
   "version": "3.9.12"
  }
 },
 "nbformat": 4,
 "nbformat_minor": 5
}
